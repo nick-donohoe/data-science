{
 "cells": [
  {
   "cell_type": "markdown",
   "metadata": {},
   "source": [
    "\n",
    "# EUR/USD Exchange Rate Visualization\n"
   ]
  },
  {
   "cell_type": "markdown",
   "metadata": {},
   "source": [
    "## Import dataset"
   ]
  },
  {
   "cell_type": "code",
   "execution_count": 2,
   "metadata": {},
   "outputs": [],
   "source": [
    "import pandas as pd\n",
    "exchange_rates = pd.read_csv('euro-daily-hist_1999_2020.csv')"
   ]
  },
  {
   "cell_type": "code",
   "execution_count": 3,
   "metadata": {},
   "outputs": [
    {
     "name": "stdout",
     "output_type": "stream",
     "text": [
      "  Period\\Unit: [Australian dollar ] [Bulgarian lev ] [Brazilian real ]  \\\n",
      "0   2021-01-08               1.5758           1.9558            6.5748   \n",
      "1   2021-01-07               1.5836           1.9558            6.5172   \n",
      "2   2021-01-06               1.5824           1.9558            6.5119   \n",
      "3   2021-01-05               1.5927           1.9558            6.5517   \n",
      "4   2021-01-04               1.5928           1.9558            6.3241   \n",
      "\n",
      "  [Canadian dollar ] [Swiss franc ] [Chinese yuan renminbi ] [Cypriot pound ]  \\\n",
      "0             1.5543         1.0827                   7.9184              NaN   \n",
      "1             1.5601         1.0833                   7.9392              NaN   \n",
      "2             1.5640         1.0821                   7.9653              NaN   \n",
      "3             1.5651         1.0803                   7.9315              NaN   \n",
      "4             1.5621         1.0811                   7.9484              NaN   \n",
      "\n",
      "  [Czech koruna ] [Danish krone ]  ... [Romanian leu ] [Russian rouble ]  \\\n",
      "0          26.163          7.4369  ...          4.8708           90.8000   \n",
      "1          26.147          7.4392  ...          4.8712           91.2000   \n",
      "2          26.145          7.4393  ...          4.8720           90.8175   \n",
      "3          26.227          7.4387  ...          4.8721           91.6715   \n",
      "4          26.141          7.4379  ...          4.8713           90.3420   \n",
      "\n",
      "  [Swedish krona ] [Singapore dollar ] [Slovenian tolar ] [Slovak koruna ]  \\\n",
      "0          10.0510              1.6228                NaN              NaN   \n",
      "1          10.0575              1.6253                NaN              NaN   \n",
      "2          10.0653              1.6246                NaN              NaN   \n",
      "3          10.0570              1.6180                NaN              NaN   \n",
      "4          10.0895              1.6198                NaN              NaN   \n",
      "\n",
      "  [Thai baht ] [Turkish lira ] [US dollar ]  [South African rand ]  \n",
      "0      36.8480          9.0146       1.2250                18.7212  \n",
      "1      36.8590          8.9987       1.2276                18.7919  \n",
      "2      36.9210          9.0554       1.2338                18.5123  \n",
      "3      36.7760          9.0694       1.2271                18.4194  \n",
      "4      36.7280          9.0579       1.2296                17.9214  \n",
      "\n",
      "[5 rows x 41 columns]\n"
     ]
    }
   ],
   "source": [
    "print(exchange_rates.head())"
   ]
  },
  {
   "cell_type": "code",
   "execution_count": 4,
   "metadata": {},
   "outputs": [
    {
     "name": "stdout",
     "output_type": "stream",
     "text": [
      "     Period\\Unit: [Australian dollar ] [Bulgarian lev ] [Brazilian real ]  \\\n",
      "5694   1999-01-08               1.8406              NaN               NaN   \n",
      "5695   1999-01-07               1.8474              NaN               NaN   \n",
      "5696   1999-01-06               1.8820              NaN               NaN   \n",
      "5697   1999-01-05               1.8944              NaN               NaN   \n",
      "5698   1999-01-04               1.9100              NaN               NaN   \n",
      "\n",
      "     [Canadian dollar ] [Swiss franc ] [Chinese yuan renminbi ]  \\\n",
      "5694             1.7643         1.6138                      NaN   \n",
      "5695             1.7602         1.6165                      NaN   \n",
      "5696             1.7711         1.6116                      NaN   \n",
      "5697             1.7965         1.6123                      NaN   \n",
      "5698             1.8004         1.6168                      NaN   \n",
      "\n",
      "     [Cypriot pound ] [Czech koruna ] [Danish krone ]  ... [Romanian leu ]  \\\n",
      "5694          0.58187          34.938          7.4433  ...          1.3143   \n",
      "5695          0.58187          34.886          7.4431  ...          1.3092   \n",
      "5696          0.58200          34.850          7.4452  ...          1.3168   \n",
      "5697          0.58230          34.917          7.4495  ...          1.3168   \n",
      "5698          0.58231          35.107          7.4501  ...          1.3111   \n",
      "\n",
      "     [Russian rouble ] [Swedish krona ] [Singapore dollar ]  \\\n",
      "5694           27.2075           9.1650              1.9537   \n",
      "5695           26.9876           9.1800              1.9436   \n",
      "5696           27.4315           9.3050              1.9699   \n",
      "5697           26.5876           9.4025              1.9655   \n",
      "5698           25.2875           9.4696              1.9554   \n",
      "\n",
      "     [Slovenian tolar ] [Slovak koruna ] [Thai baht ] [Turkish lira ]  \\\n",
      "5694           188.8400           42.560      42.5590          0.3718   \n",
      "5695           188.8000           42.765      42.1678          0.3701   \n",
      "5696           188.7000           42.778      42.6949          0.3722   \n",
      "5697           188.7750           42.848      42.5048          0.3728   \n",
      "5698           189.0450           42.991      42.6799          0.3723   \n",
      "\n",
      "     [US dollar ]  [South African rand ]  \n",
      "5694       1.1659                 6.7855  \n",
      "5695       1.1632                 6.8283  \n",
      "5696       1.1743                 6.7307  \n",
      "5697       1.1790                 6.7975  \n",
      "5698       1.1789                 6.9358  \n",
      "\n",
      "[5 rows x 41 columns]\n"
     ]
    }
   ],
   "source": [
    "print(exchange_rates.tail())"
   ]
  },
  {
   "cell_type": "code",
   "execution_count": 5,
   "metadata": {},
   "outputs": [
    {
     "name": "stdout",
     "output_type": "stream",
     "text": [
      "<class 'pandas.core.frame.DataFrame'>\n",
      "RangeIndex: 5699 entries, 0 to 5698\n",
      "Data columns (total 41 columns):\n",
      " #   Column                    Non-Null Count  Dtype  \n",
      "---  ------                    --------------  -----  \n",
      " 0   Period\\Unit:              5699 non-null   object \n",
      " 1   [Australian dollar ]      5699 non-null   object \n",
      " 2   [Bulgarian lev ]          5297 non-null   object \n",
      " 3   [Brazilian real ]         5431 non-null   object \n",
      " 4   [Canadian dollar ]        5699 non-null   object \n",
      " 5   [Swiss franc ]            5699 non-null   object \n",
      " 6   [Chinese yuan renminbi ]  5431 non-null   object \n",
      " 7   [Cypriot pound ]          2346 non-null   object \n",
      " 8   [Czech koruna ]           5699 non-null   object \n",
      " 9   [Danish krone ]           5699 non-null   object \n",
      " 10  [Estonian kroon ]         3130 non-null   object \n",
      " 11  [UK pound sterling ]      5699 non-null   object \n",
      " 12  [Greek drachma ]          520 non-null    object \n",
      " 13  [Hong Kong dollar ]       5699 non-null   object \n",
      " 14  [Croatian kuna ]          5431 non-null   object \n",
      " 15  [Hungarian forint ]       5699 non-null   object \n",
      " 16  [Indonesian rupiah ]      5699 non-null   object \n",
      " 17  [Israeli shekel ]         5431 non-null   object \n",
      " 18  [Indian rupee ]           5431 non-null   object \n",
      " 19  [Iceland krona ]          3292 non-null   float64\n",
      " 20  [Japanese yen ]           5699 non-null   object \n",
      " 21  [Korean won ]             5699 non-null   object \n",
      " 22  [Lithuanian litas ]       4159 non-null   object \n",
      " 23  [Latvian lats ]           3904 non-null   object \n",
      " 24  [Maltese lira ]           2346 non-null   object \n",
      " 25  [Mexican peso ]           5699 non-null   object \n",
      " 26  [Malaysian ringgit ]      5699 non-null   object \n",
      " 27  [Norwegian krone ]        5699 non-null   object \n",
      " 28  [New Zealand dollar ]     5699 non-null   object \n",
      " 29  [Philippine peso ]        5699 non-null   object \n",
      " 30  [Polish zloty ]           5699 non-null   object \n",
      " 31  [Romanian leu ]           5637 non-null   float64\n",
      " 32  [Russian rouble ]         5699 non-null   object \n",
      " 33  [Swedish krona ]          5699 non-null   object \n",
      " 34  [Singapore dollar ]       5699 non-null   object \n",
      " 35  [Slovenian tolar ]        2085 non-null   object \n",
      " 36  [Slovak koruna ]          2608 non-null   object \n",
      " 37  [Thai baht ]              5699 non-null   object \n",
      " 38  [Turkish lira ]           5637 non-null   float64\n",
      " 39  [US dollar ]              5699 non-null   object \n",
      " 40  [South African rand ]     5699 non-null   object \n",
      "dtypes: float64(3), object(38)\n",
      "memory usage: 1.8+ MB\n",
      "None\n"
     ]
    }
   ],
   "source": [
    "print(exchange_rates.info())"
   ]
  },
  {
   "cell_type": "markdown",
   "metadata": {},
   "source": [
    "## Data Cleaning"
   ]
  },
  {
   "cell_type": "code",
   "execution_count": 6,
   "metadata": {},
   "outputs": [],
   "source": [
    "exchange_rates.rename(columns={'[US dollar ]': 'US_dollar',\n",
    "                               'Period\\\\Unit:': 'Time'},\n",
    "                      inplace=True)\n",
    "exchange_rates['Time'] = pd.to_datetime(exchange_rates['Time'])\n",
    "exchange_rates.sort_values('Time', inplace=True)\n",
    "exchange_rates.reset_index(drop=True, inplace=True)"
   ]
  },
  {
   "cell_type": "code",
   "execution_count": 7,
   "metadata": {},
   "outputs": [
    {
     "data": {
      "text/html": [
       "<div>\n",
       "<style scoped>\n",
       "    .dataframe tbody tr th:only-of-type {\n",
       "        vertical-align: middle;\n",
       "    }\n",
       "\n",
       "    .dataframe tbody tr th {\n",
       "        vertical-align: top;\n",
       "    }\n",
       "\n",
       "    .dataframe thead th {\n",
       "        text-align: right;\n",
       "    }\n",
       "</style>\n",
       "<table border=\"1\" class=\"dataframe\">\n",
       "  <thead>\n",
       "    <tr style=\"text-align: right;\">\n",
       "      <th></th>\n",
       "      <th>Time</th>\n",
       "      <th>[Australian dollar ]</th>\n",
       "      <th>[Bulgarian lev ]</th>\n",
       "      <th>[Brazilian real ]</th>\n",
       "      <th>[Canadian dollar ]</th>\n",
       "      <th>[Swiss franc ]</th>\n",
       "      <th>[Chinese yuan renminbi ]</th>\n",
       "      <th>[Cypriot pound ]</th>\n",
       "      <th>[Czech koruna ]</th>\n",
       "      <th>[Danish krone ]</th>\n",
       "      <th>...</th>\n",
       "      <th>[Romanian leu ]</th>\n",
       "      <th>[Russian rouble ]</th>\n",
       "      <th>[Swedish krona ]</th>\n",
       "      <th>[Singapore dollar ]</th>\n",
       "      <th>[Slovenian tolar ]</th>\n",
       "      <th>[Slovak koruna ]</th>\n",
       "      <th>[Thai baht ]</th>\n",
       "      <th>[Turkish lira ]</th>\n",
       "      <th>US_dollar</th>\n",
       "      <th>[South African rand ]</th>\n",
       "    </tr>\n",
       "  </thead>\n",
       "  <tbody>\n",
       "    <tr>\n",
       "      <th>0</th>\n",
       "      <td>1999-01-04</td>\n",
       "      <td>1.9100</td>\n",
       "      <td>NaN</td>\n",
       "      <td>NaN</td>\n",
       "      <td>1.8004</td>\n",
       "      <td>1.6168</td>\n",
       "      <td>NaN</td>\n",
       "      <td>0.58231</td>\n",
       "      <td>35.107</td>\n",
       "      <td>7.4501</td>\n",
       "      <td>...</td>\n",
       "      <td>1.3111</td>\n",
       "      <td>25.2875</td>\n",
       "      <td>9.4696</td>\n",
       "      <td>1.9554</td>\n",
       "      <td>189.0450</td>\n",
       "      <td>42.991</td>\n",
       "      <td>42.6799</td>\n",
       "      <td>0.3723</td>\n",
       "      <td>1.1789</td>\n",
       "      <td>6.9358</td>\n",
       "    </tr>\n",
       "    <tr>\n",
       "      <th>1</th>\n",
       "      <td>1999-01-05</td>\n",
       "      <td>1.8944</td>\n",
       "      <td>NaN</td>\n",
       "      <td>NaN</td>\n",
       "      <td>1.7965</td>\n",
       "      <td>1.6123</td>\n",
       "      <td>NaN</td>\n",
       "      <td>0.58230</td>\n",
       "      <td>34.917</td>\n",
       "      <td>7.4495</td>\n",
       "      <td>...</td>\n",
       "      <td>1.3168</td>\n",
       "      <td>26.5876</td>\n",
       "      <td>9.4025</td>\n",
       "      <td>1.9655</td>\n",
       "      <td>188.7750</td>\n",
       "      <td>42.848</td>\n",
       "      <td>42.5048</td>\n",
       "      <td>0.3728</td>\n",
       "      <td>1.1790</td>\n",
       "      <td>6.7975</td>\n",
       "    </tr>\n",
       "    <tr>\n",
       "      <th>2</th>\n",
       "      <td>1999-01-06</td>\n",
       "      <td>1.8820</td>\n",
       "      <td>NaN</td>\n",
       "      <td>NaN</td>\n",
       "      <td>1.7711</td>\n",
       "      <td>1.6116</td>\n",
       "      <td>NaN</td>\n",
       "      <td>0.58200</td>\n",
       "      <td>34.850</td>\n",
       "      <td>7.4452</td>\n",
       "      <td>...</td>\n",
       "      <td>1.3168</td>\n",
       "      <td>27.4315</td>\n",
       "      <td>9.3050</td>\n",
       "      <td>1.9699</td>\n",
       "      <td>188.7000</td>\n",
       "      <td>42.778</td>\n",
       "      <td>42.6949</td>\n",
       "      <td>0.3722</td>\n",
       "      <td>1.1743</td>\n",
       "      <td>6.7307</td>\n",
       "    </tr>\n",
       "    <tr>\n",
       "      <th>3</th>\n",
       "      <td>1999-01-07</td>\n",
       "      <td>1.8474</td>\n",
       "      <td>NaN</td>\n",
       "      <td>NaN</td>\n",
       "      <td>1.7602</td>\n",
       "      <td>1.6165</td>\n",
       "      <td>NaN</td>\n",
       "      <td>0.58187</td>\n",
       "      <td>34.886</td>\n",
       "      <td>7.4431</td>\n",
       "      <td>...</td>\n",
       "      <td>1.3092</td>\n",
       "      <td>26.9876</td>\n",
       "      <td>9.1800</td>\n",
       "      <td>1.9436</td>\n",
       "      <td>188.8000</td>\n",
       "      <td>42.765</td>\n",
       "      <td>42.1678</td>\n",
       "      <td>0.3701</td>\n",
       "      <td>1.1632</td>\n",
       "      <td>6.8283</td>\n",
       "    </tr>\n",
       "    <tr>\n",
       "      <th>4</th>\n",
       "      <td>1999-01-08</td>\n",
       "      <td>1.8406</td>\n",
       "      <td>NaN</td>\n",
       "      <td>NaN</td>\n",
       "      <td>1.7643</td>\n",
       "      <td>1.6138</td>\n",
       "      <td>NaN</td>\n",
       "      <td>0.58187</td>\n",
       "      <td>34.938</td>\n",
       "      <td>7.4433</td>\n",
       "      <td>...</td>\n",
       "      <td>1.3143</td>\n",
       "      <td>27.2075</td>\n",
       "      <td>9.1650</td>\n",
       "      <td>1.9537</td>\n",
       "      <td>188.8400</td>\n",
       "      <td>42.560</td>\n",
       "      <td>42.5590</td>\n",
       "      <td>0.3718</td>\n",
       "      <td>1.1659</td>\n",
       "      <td>6.7855</td>\n",
       "    </tr>\n",
       "  </tbody>\n",
       "</table>\n",
       "<p>5 rows × 41 columns</p>\n",
       "</div>"
      ],
      "text/plain": [
       "        Time [Australian dollar ] [Bulgarian lev ] [Brazilian real ]  \\\n",
       "0 1999-01-04               1.9100              NaN               NaN   \n",
       "1 1999-01-05               1.8944              NaN               NaN   \n",
       "2 1999-01-06               1.8820              NaN               NaN   \n",
       "3 1999-01-07               1.8474              NaN               NaN   \n",
       "4 1999-01-08               1.8406              NaN               NaN   \n",
       "\n",
       "  [Canadian dollar ] [Swiss franc ] [Chinese yuan renminbi ] [Cypriot pound ]  \\\n",
       "0             1.8004         1.6168                      NaN          0.58231   \n",
       "1             1.7965         1.6123                      NaN          0.58230   \n",
       "2             1.7711         1.6116                      NaN          0.58200   \n",
       "3             1.7602         1.6165                      NaN          0.58187   \n",
       "4             1.7643         1.6138                      NaN          0.58187   \n",
       "\n",
       "  [Czech koruna ] [Danish krone ]  ... [Romanian leu ] [Russian rouble ]  \\\n",
       "0          35.107          7.4501  ...          1.3111           25.2875   \n",
       "1          34.917          7.4495  ...          1.3168           26.5876   \n",
       "2          34.850          7.4452  ...          1.3168           27.4315   \n",
       "3          34.886          7.4431  ...          1.3092           26.9876   \n",
       "4          34.938          7.4433  ...          1.3143           27.2075   \n",
       "\n",
       "  [Swedish krona ] [Singapore dollar ] [Slovenian tolar ] [Slovak koruna ]  \\\n",
       "0           9.4696              1.9554           189.0450           42.991   \n",
       "1           9.4025              1.9655           188.7750           42.848   \n",
       "2           9.3050              1.9699           188.7000           42.778   \n",
       "3           9.1800              1.9436           188.8000           42.765   \n",
       "4           9.1650              1.9537           188.8400           42.560   \n",
       "\n",
       "  [Thai baht ] [Turkish lira ] US_dollar  [South African rand ]  \n",
       "0      42.6799          0.3723    1.1789                 6.9358  \n",
       "1      42.5048          0.3728    1.1790                 6.7975  \n",
       "2      42.6949          0.3722    1.1743                 6.7307  \n",
       "3      42.1678          0.3701    1.1632                 6.8283  \n",
       "4      42.5590          0.3718    1.1659                 6.7855  \n",
       "\n",
       "[5 rows x 41 columns]"
      ]
     },
     "execution_count": 7,
     "metadata": {},
     "output_type": "execute_result"
    }
   ],
   "source": [
    "exchange_rates.head()"
   ]
  },
  {
   "cell_type": "code",
   "execution_count": 8,
   "metadata": {},
   "outputs": [],
   "source": [
    "# Make a copy to work with\n",
    "euro_to_dollar = exchange_rates[['Time', 'US_dollar']].copy()"
   ]
  },
  {
   "cell_type": "code",
   "execution_count": 9,
   "metadata": {},
   "outputs": [
    {
     "data": {
      "text/plain": [
       "-         62\n",
       "1.2276     9\n",
       "1.1215     8\n",
       "1.1305     7\n",
       "1.3086     6\n",
       "          ..\n",
       "0.9555     1\n",
       "1.5071     1\n",
       "1.4694     1\n",
       "1.3330     1\n",
       "1.1418     1\n",
       "Name: US_dollar, Length: 3528, dtype: int64"
      ]
     },
     "execution_count": 9,
     "metadata": {},
     "output_type": "execute_result"
    }
   ],
   "source": [
    "euro_to_dollar['US_dollar'].value_counts()"
   ]
  },
  {
   "cell_type": "markdown",
   "metadata": {},
   "source": [
    "There is a non-numeric character '-'"
   ]
  },
  {
   "cell_type": "code",
   "execution_count": 10,
   "metadata": {},
   "outputs": [],
   "source": [
    "# Select the rows that don't have the character\n",
    "euro_to_dollar = euro_to_dollar[euro_to_dollar['US_dollar'] != '-']\n",
    "# convert object column to float\n",
    "euro_to_dollar['US_dollar'] = euro_to_dollar['US_dollar'].astype(float)"
   ]
  },
  {
   "cell_type": "code",
   "execution_count": 11,
   "metadata": {},
   "outputs": [
    {
     "name": "stdout",
     "output_type": "stream",
     "text": [
      "<class 'pandas.core.frame.DataFrame'>\n",
      "Int64Index: 5637 entries, 0 to 5698\n",
      "Data columns (total 2 columns):\n",
      " #   Column     Non-Null Count  Dtype         \n",
      "---  ------     --------------  -----         \n",
      " 0   Time       5637 non-null   datetime64[ns]\n",
      " 1   US_dollar  5637 non-null   float64       \n",
      "dtypes: datetime64[ns](1), float64(1)\n",
      "memory usage: 132.1 KB\n"
     ]
    }
   ],
   "source": [
    "euro_to_dollar.info()"
   ]
  },
  {
   "cell_type": "code",
   "execution_count": 12,
   "metadata": {},
   "outputs": [],
   "source": [
    "import matplotlib.pyplot as plt\n",
    "%matplotlib inline"
   ]
  },
  {
   "cell_type": "code",
   "execution_count": 13,
   "metadata": {},
   "outputs": [],
   "source": [
    "# add the 30-day rolling average column\n",
    "euro_to_dollar['rolling_mean'] = euro_to_dollar.US_dollar.rolling(30).mean()"
   ]
  },
  {
   "cell_type": "code",
   "execution_count": 14,
   "metadata": {},
   "outputs": [
    {
     "data": {
      "image/png": "[encoded data removed]",
      "text/plain": [
       "<Figure size 600x400 with 1 Axes>"
      ]
     },
     "metadata": {},
     "output_type": "display_data"
    }
   ],
   "source": [
    "euro_to_dollar.plot.line(x='Time', y='rolling_mean')\n",
    "plt.show()"
   ]
  },
  {
   "cell_type": "code",
   "execution_count": 15,
   "metadata": {},
   "outputs": [],
   "source": [
    "# segment the data by Presicdency\n",
    "bush_term = (euro_to_dollar['Time'].dt.year >= 2001) & (euro_to_dollar['Time'].dt.year < 2009)\n",
    "bush = euro_to_dollar[bush_term]\n",
    "\n",
    "obama_term = (euro_to_dollar['Time'].dt.year >= 2009) & (euro_to_dollar['Time'].dt.year < 2017)\n",
    "obama = euro_to_dollar[obama_term]\n",
    "\n",
    "trump_term = (euro_to_dollar['Time'].dt.year >= 2017) & (euro_to_dollar['Time'].dt.year < 2021)\n",
    "trump = euro_to_dollar[trump_term]"
   ]
  },
  {
   "cell_type": "code",
   "execution_count": 17,
   "metadata": {},
   "outputs": [],
   "source": [
    "financial_crisis = euro_to_dollar.copy(\n",
    "                   )[(euro_to_dollar['Time'].dt.year >= 2006\n",
    "                   ) & (euro_to_dollar['Time'].dt.year <= 2009)]\n",
    "financial_crisis_7_8 = euro_to_dollar.copy(\n",
    "                   )[(euro_to_dollar.Time.dt.year >= 2007\n",
    "                   ) & (euro_to_dollar.Time.dt.year <= 2008)]"
   ]
  },
  {
   "cell_type": "code",
   "execution_count": 22,
   "metadata": {},
   "outputs": [
    {
     "data": {
      "image/png": "[encoded data removed]",
      "text/plain": [
       "<Figure size 800x300 with 1 Axes>"
      ]
     },
     "metadata": {},
     "output_type": "display_data"
    }
   ],
   "source": [
    "import matplotlib.style as style\n",
    "style.use('fivethirtyeight')\n",
    "#%matplotlib inline\n",
    "\n",
    "### Adding the plot\n",
    "fig, ax = plt.subplots(figsize=(8,3))\n",
    "ax.plot(financial_crisis['Time'], financial_crisis['rolling_mean'], \n",
    "        linewidth=1, color='#A6D785')\n",
    "\n",
    "### Highlighting the 2007-2008 period\n",
    "ax.plot(financial_crisis_7_8['Time'],\n",
    "        financial_crisis_7_8['rolling_mean'],\n",
    "        linewidth=3, color='#e23d28')\n",
    "\n",
    "### Highlihting the peak of the crisis\n",
    "ax.axvspan(xmin=pd.to_datetime('2008-03-01'), \n",
    "           xmax=pd.to_datetime('2009-01-01'), \n",
    "           alpha=0.3, color='grey')\n",
    "    \n",
    "### Adding separate tick labels\n",
    "font = {\n",
    "        'size': 11,\n",
    "        'alpha': 0.5\n",
    "        }\n",
    "ax.set_xticks(ticks=[pd.to_datetime('2006'), pd.to_datetime('2007'), \n",
    "                     pd.to_datetime('2008'), pd.to_datetime('2009')])\n",
    "ax.set_xticklabels(['2006', '2007', '2008', '2009'], fontdict=font)\n",
    "\n",
    "## Adding a title and a subtitle    \n",
    "ax.text(732172.0, 1.67, \"Euro-USD rate peaked at 1.59 during 2007-2008's financial crisis\",\n",
    "        weight='bold')\n",
    "ax.text(732172.0, 1.63, 'Euro-USD exchange rates between 2006 and 2010',\n",
    "        size=12)\n",
    "\n",
    "### Adding a signature\n",
    "ax.text(732172.0, 1.07, 'DATAQUEST & Nick Donohoe' + ' '*94 + 'Source: European Central Bank',\n",
    "        color = '#f0f0f0', backgroundcolor = '#4d4d4d',\n",
    "        size=10)\n",
    "\n",
    "### Add some transparency to the grid\n",
    "ax.grid(alpha=0.5)\n",
    "\n",
    "plt.show()"
   ]
  },
  {
   "cell_type": "code",
   "execution_count": null,
   "metadata": {},
   "outputs": [],
   "source": []
  }
 ],
 "metadata": {
  "kernelspec": {
   "display_name": "Python 3",
   "language": "python",
   "name": "python3"
  },
  "language_info": {
   "codemirror_mode": {
    "name": "ipython",
    "version": 3
   },
   "file_extension": ".py",
   "mimetype": "text/x-python",
   "name": "python",
   "nbconvert_exporter": "python",
   "pygments_lexer": "ipython3",
   "version": "3.8.2"
  }
 },
 "nbformat": 4,
 "nbformat_minor": 4
}
