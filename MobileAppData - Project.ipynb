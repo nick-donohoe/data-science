{
 "cells": [
  {
   "cell_type": "markdown",
   "id": "052a36b8",
   "metadata": {},
   "source": [
    "\n",
    "# Finding Profitable Mobile App Niches in Google Play and iOS App Store\n"
   ]
  },
  {
   "cell_type": "markdown",
   "id": "5435ffd9",
   "metadata": {},
   "source": [
    "The purpose of this anaylsis is to identify mobile app niches that have high profitability potential.  Our client develops 'Free' apps and earns revenue from in-app ads.  For this business model to be successful (ad revenue), the apps must attract a lot of users.\n",
    "\n",
    "Their development process is:\n",
    "1. Identify a profitable app niche on the Google Play store. (The aim of this project)\n",
    "1. Create an MVP Android app, release, and promote.\n",
    "1. If the Google Play app is successful, create an iOS version.\n",
    "\n",
    "We will use app marketplace data to make data driven recommendations for the development team. "
   ]
  },
  {
   "cell_type": "markdown",
   "id": "a9f888e1",
   "metadata": {},
   "source": [
    "\n",
    "## Exploring the Data\n"
   ]
  },
  {
   "cell_type": "markdown",
   "id": "70f88c57",
   "metadata": {},
   "source": [
    "As of the third quarter of 2022, there are 3.5 million apps available on the Google Play store and 1.6 million apps on Apple's App Store ([Statista](https://www.statista.com/statistics/276623/number-of-apps-available-in-leading-app-stores/)).\n",
    "\n",
    "These datasets do not appear to be freely available. However, we were able to locate two free datsets that are samples.  These will allow us to explore the data and determine what insights (if any) can be gained at no cost.  The two datasets that we will use in this analysis are:\n",
    "\n",
    "* [This sample](https://www.kaggle.com/datasets/lava18/google-play-store-apps) of about 10k Google Play Store apps that was web scraped.\n",
    "* [This sample](https://www.kaggle.com/datasets/ramamet4/app-store-apple-data-set-10k-apps) of 7,200 Apple Store apps that were obtained through the iTunes API."
   ]
  },
  {
   "cell_type": "code",
   "execution_count": 1,
   "id": "cedbf444",
   "metadata": {},
   "outputs": [],
   "source": [
    "# Read in the csv files\n",
    "from csv import reader\n",
    "\n",
    "open_apple = open('my_datasets/AppAdRev/AppleStore.csv', encoding='utf8')\n",
    "open_google = open('my_datasets/AppAdRev/googleplaystore.csv', encoding='utf8')\n",
    "\n",
    "read_apple = reader(open_apple)\n",
    "read_google = reader(open_google)\n",
    "\n",
    "apple_apps = list(read_apple)\n",
    "google_apps = list(read_google)"
   ]
  },
  {
   "cell_type": "markdown",
   "id": "094fe688",
   "metadata": {},
   "source": [
    "For convenience, we have written a helper function `explore_data()` to make the dataset easier to read."
   ]
  },
  {
   "cell_type": "code",
   "execution_count": 2,
   "id": "80acd953",
   "metadata": {},
   "outputs": [],
   "source": [
    "# Helper function to view data\n",
    "def explore_data(dataset, start, end, rows_and_columns=False):\n",
    "    dataset_slice = dataset[start:end]    \n",
    "    for row in dataset_slice:\n",
    "        print(row)\n",
    "        print('\\n') # adds a new (empty) line after each row\n",
    "\n",
    "    if rows_and_columns:\n",
    "        print('Number of rows:', len(dataset))\n",
    "        print('Number of columns:', len(dataset[0]))"
   ]
  },
  {
   "cell_type": "markdown",
   "id": "1c63892f",
   "metadata": {},
   "source": [
    "Let's print the head of each list of lists."
   ]
  },
  {
   "cell_type": "code",
   "execution_count": 3,
   "id": "d1578554",
   "metadata": {},
   "outputs": [
    {
     "name": "stdout",
     "output_type": "stream",
     "text": [
      "Apple Apps\n",
      "['id', 'track_name', 'size_bytes', 'currency', 'price', 'rating_count_tot', 'rating_count_ver', 'user_rating', 'user_rating_ver', 'ver', 'cont_rating', 'prime_genre', 'sup_devices.num', 'ipadSc_urls.num', 'lang.num', 'vpp_lic']\n",
      "\n",
      "\n",
      "['284882215', 'Facebook', '389879808', 'USD', '0.0', '2974676', '212', '3.5', '3.5', '95.0', '4+', 'Social Networking', '37', '1', '29', '1']\n",
      "\n",
      "\n",
      "['389801252', 'Instagram', '113954816', 'USD', '0.0', '2161558', '1289', '4.5', '4.0', '10.23', '12+', 'Photo & Video', '37', '0', '29', '1']\n",
      "\n",
      "\n",
      "['529479190', 'Clash of Clans', '116476928', 'USD', '0.0', '2130805', '579', '4.5', '4.5', '9.24.12', '9+', 'Games', '38', '5', '18', '1']\n",
      "\n",
      "\n",
      "['420009108', 'Temple Run', '65921024', 'USD', '0.0', '1724546', '3842', '4.5', '4.0', '1.6.2', '9+', 'Games', '40', '5', '1', '1']\n",
      "\n",
      "\n",
      "Number of rows: 7198\n",
      "Number of columns: 16\n",
      "\n",
      "\n",
      "\n",
      "Google Apps\n",
      "['App', 'Category', 'Rating', 'Reviews', 'Size', 'Installs', 'Type', 'Price', 'Content Rating', 'Genres', 'Last Updated', 'Current Ver', 'Android Ver']\n",
      "\n",
      "\n",
      "['Photo Editor & Candy Camera & Grid & ScrapBook', 'ART_AND_DESIGN', '4.1', '159', '19M', '10,000+', 'Free', '0', 'Everyone', 'Art & Design', 'January 7, 2018', '1.0.0', '4.0.3 and up']\n",
      "\n",
      "\n",
      "['Coloring book moana', 'ART_AND_DESIGN', '3.9', '967', '14M', '500,000+', 'Free', '0', 'Everyone', 'Art & Design;Pretend Play', 'January 15, 2018', '2.0.0', '4.0.3 and up']\n",
      "\n",
      "\n",
      "['U Launcher Lite – FREE Live Cool Themes, Hide Apps', 'ART_AND_DESIGN', '4.7', '87510', '8.7M', '5,000,000+', 'Free', '0', 'Everyone', 'Art & Design', 'August 1, 2018', '1.2.4', '4.0.3 and up']\n",
      "\n",
      "\n",
      "['Sketch - Draw & Paint', 'ART_AND_DESIGN', '4.5', '215644', '25M', '50,000,000+', 'Free', '0', 'Teen', 'Art & Design', 'June 8, 2018', 'Varies with device', '4.2 and up']\n",
      "\n",
      "\n",
      "Number of rows: 10842\n",
      "Number of columns: 13\n"
     ]
    }
   ],
   "source": [
    "# Explore the data format\n",
    "print('Apple Apps')\n",
    "explore_data(apple_apps, 0, 5, True)\n",
    "print('\\n\\n')\n",
    "print('Google Apps')\n",
    "explore_data(google_apps, 0, 5, True)"
   ]
  },
  {
   "cell_type": "markdown",
   "id": "d993889b",
   "metadata": {},
   "source": [
    "## Cleaning the Data"
   ]
  },
  {
   "cell_type": "markdown",
   "id": "372eab22",
   "metadata": {},
   "source": [
    "In the discussion on Kaggle for the Google Play dataset, it was agreed that there is a row of corrupted data.  Below we validate the bad data row and remove it from the dataset."
   ]
  },
  {
   "cell_type": "code",
   "execution_count": 4,
   "id": "1e7dde42",
   "metadata": {},
   "outputs": [
    {
     "name": "stdout",
     "output_type": "stream",
     "text": [
      "['Life Made WI-Fi Touchscreen Photo Frame', '1.9', '19', '3.0M', '1,000+', 'Free', '0', 'Everyone', '', 'February 11, 2018', '1.0.19', '4.0 and up']\n"
     ]
    }
   ],
   "source": [
    "print(google_apps[10473])"
   ]
  },
  {
   "cell_type": "code",
   "execution_count": 5,
   "id": "4bdaa332",
   "metadata": {},
   "outputs": [],
   "source": [
    "# Delete the bad row \n",
    "del google_apps[10473]"
   ]
  },
  {
   "cell_type": "code",
   "execution_count": 6,
   "id": "1cf61127",
   "metadata": {},
   "outputs": [
    {
     "name": "stdout",
     "output_type": "stream",
     "text": [
      "10841\n"
     ]
    }
   ],
   "source": [
    "print(len(google_apps))"
   ]
  },
  {
   "cell_type": "markdown",
   "id": "f2fa4651",
   "metadata": {},
   "source": [
    "In the discussion on Kaggle for the Google Play dataset, it was observed that there are duplicate entries for the same app names.  The app names in this dataset do not function as primary keys.  Here we check for duplicates."
   ]
  },
  {
   "cell_type": "code",
   "execution_count": 7,
   "id": "4e3993d5",
   "metadata": {},
   "outputs": [],
   "source": [
    "# Check the Google data for duplicate entries by app name\n",
    "unique_apps = []\n",
    "dupe_apps = []\n",
    "for row in google_apps[1:]:\n",
    "    app_name = row[0]\n",
    "    if app_name in unique_apps:\n",
    "        dupe_apps.append(app_name)\n",
    "    else:\n",
    "        unique_apps.append(app_name)"
   ]
  },
  {
   "cell_type": "code",
   "execution_count": 8,
   "id": "2266a442",
   "metadata": {},
   "outputs": [
    {
     "name": "stdout",
     "output_type": "stream",
     "text": [
      "Total duplicates: 1181\n",
      "['Quick PDF Scanner + OCR FREE', 'Box', 'Google My Business', 'ZOOM Cloud Meetings', 'join.me - Simple Meetings']\n"
     ]
    }
   ],
   "source": [
    "# These are the duplicate rows\n",
    "print('Total duplicates: ' + str(len(dupe_apps)))\n",
    "print(dupe_apps[:5])"
   ]
  },
  {
   "cell_type": "markdown",
   "id": "1cf826f4",
   "metadata": {},
   "source": [
    "Let's take a closer look at some duplicate entries."
   ]
  },
  {
   "cell_type": "code",
   "execution_count": 9,
   "id": "9b2dda47",
   "metadata": {},
   "outputs": [
    {
     "name": "stdout",
     "output_type": "stream",
     "text": [
      "['Quick PDF Scanner + OCR FREE', 'BUSINESS', '4.2', '80805', 'Varies with device', '5,000,000+', 'Free', '0', 'Everyone', 'Business', 'February 26, 2018', 'Varies with device', '4.0.3 and up']\n",
      "['Quick PDF Scanner + OCR FREE', 'BUSINESS', '4.2', '80805', 'Varies with device', '5,000,000+', 'Free', '0', 'Everyone', 'Business', 'February 26, 2018', 'Varies with device', '4.0.3 and up']\n",
      "['Quick PDF Scanner + OCR FREE', 'BUSINESS', '4.2', '80804', 'Varies with device', '5,000,000+', 'Free', '0', 'Everyone', 'Business', 'February 26, 2018', 'Varies with device', '4.0.3 and up']\n",
      "['Box', 'BUSINESS', '4.2', '159872', 'Varies with device', '10,000,000+', 'Free', '0', 'Everyone', 'Business', 'July 31, 2018', 'Varies with device', 'Varies with device']\n",
      "['Box', 'BUSINESS', '4.2', '159872', 'Varies with device', '10,000,000+', 'Free', '0', 'Everyone', 'Business', 'July 31, 2018', 'Varies with device', 'Varies with device']\n",
      "['Box', 'BUSINESS', '4.2', '159872', 'Varies with device', '10,000,000+', 'Free', '0', 'Everyone', 'Business', 'July 31, 2018', 'Varies with device', 'Varies with device']\n",
      "['Google My Business', 'BUSINESS', '4.4', '70991', 'Varies with device', '5,000,000+', 'Free', '0', 'Everyone', 'Business', 'July 24, 2018', '2.19.0.204537701', '4.4 and up']\n",
      "['Google My Business', 'BUSINESS', '4.4', '70991', 'Varies with device', '5,000,000+', 'Free', '0', 'Everyone', 'Business', 'July 24, 2018', '2.19.0.204537701', '4.4 and up']\n",
      "['Google My Business', 'BUSINESS', '4.4', '70991', 'Varies with device', '5,000,000+', 'Free', '0', 'Everyone', 'Business', 'July 24, 2018', '2.19.0.204537701', '4.4 and up']\n",
      "['ZOOM Cloud Meetings', 'BUSINESS', '4.4', '31614', '37M', '10,000,000+', 'Free', '0', 'Everyone', 'Business', 'July 20, 2018', '4.1.28165.0716', '4.0 and up']\n",
      "['ZOOM Cloud Meetings', 'BUSINESS', '4.4', '31614', '37M', '10,000,000+', 'Free', '0', 'Everyone', 'Business', 'July 20, 2018', '4.1.28165.0716', '4.0 and up']\n",
      "['join.me - Simple Meetings', 'BUSINESS', '4.0', '6989', 'Varies with device', '1,000,000+', 'Free', '0', 'Everyone', 'Business', 'July 16, 2018', '4.3.0.508', '4.4 and up']\n",
      "['join.me - Simple Meetings', 'BUSINESS', '4.0', '6989', 'Varies with device', '1,000,000+', 'Free', '0', 'Everyone', 'Business', 'July 16, 2018', '4.3.0.508', '4.4 and up']\n",
      "['join.me - Simple Meetings', 'BUSINESS', '4.0', '6989', 'Varies with device', '1,000,000+', 'Free', '0', 'Everyone', 'Business', 'July 16, 2018', '4.3.0.508', '4.4 and up']\n"
     ]
    }
   ],
   "source": [
    "# Print all the data for the first 5 rows of duplicates\n",
    "for app in dupe_apps[:5]:\n",
    "    for row in google_apps[1:]:\n",
    "        if app == row[0]:\n",
    "            print(row)"
   ]
  },
  {
   "cell_type": "markdown",
   "id": "19547e55",
   "metadata": {},
   "source": [
    "There doesn't appear to be much difference (if any) in the duplicate rows.  In the discussion, it is thought that the duplicates were a snapshot at different times and we should therefore look at the 'rating_count_total' column and keep the row with the highest review count.  This seems like a reasonable assumption so we'll keep the row with the highest number of reviews."
   ]
  },
  {
   "cell_type": "code",
   "execution_count": 10,
   "id": "5a4b4564",
   "metadata": {},
   "outputs": [],
   "source": [
    "# Loop through each app and creat a dict with app as key and the highest review count as val \n",
    "reviews_max = {}\n",
    "for row in google_apps[1:]:\n",
    "    name = row[0]\n",
    "    n_reviews = float(row[3])\n",
    "    \n",
    "    # Check if the name is in reviews_max first so reviews_max[name] won't throw a key error\n",
    "    if name in reviews_max and n_reviews > reviews_max[name]:\n",
    "        reviews_max[name] = n_reviews\n",
    "    elif name not in reviews_max:\n",
    "        reviews_max[name] = n_reviews"
   ]
  },
  {
   "cell_type": "code",
   "execution_count": 11,
   "id": "95ee714b",
   "metadata": {},
   "outputs": [
    {
     "name": "stdout",
     "output_type": "stream",
     "text": [
      "9659\n"
     ]
    }
   ],
   "source": [
    "print(len(reviews_max))"
   ]
  },
  {
   "cell_type": "markdown",
   "id": "6cd9400f",
   "metadata": {},
   "source": [
    "Remove the duplicate rows"
   ]
  },
  {
   "cell_type": "code",
   "execution_count": 12,
   "id": "468862d0",
   "metadata": {},
   "outputs": [],
   "source": [
    "\"\"\"\n",
    "Many of the duplicate rows have review counts that are identical so we must keep track \n",
    "once we have added the app to the clean list using the app name as a primary key.\n",
    "\"\"\"\n",
    "android_clean = []\n",
    "already_added = []\n",
    "\n",
    "for row in google_apps[1:]:\n",
    "    name = row[0]\n",
    "    n_reviews = float(row[3])\n",
    "    \n",
    "    if name not in already_added and n_reviews == reviews_max[name]:\n",
    "        android_clean.append(row)\n",
    "        already_added.append(name)\n"
   ]
  },
  {
   "cell_type": "code",
   "execution_count": 13,
   "id": "27f6322e",
   "metadata": {},
   "outputs": [
    {
     "name": "stdout",
     "output_type": "stream",
     "text": [
      "['Photo Editor & Candy Camera & Grid & ScrapBook', 'ART_AND_DESIGN', '4.1', '159', '19M', '10,000+', 'Free', '0', 'Everyone', 'Art & Design', 'January 7, 2018', '1.0.0', '4.0.3 and up']\n",
      "\n",
      "\n",
      "['U Launcher Lite – FREE Live Cool Themes, Hide Apps', 'ART_AND_DESIGN', '4.7', '87510', '8.7M', '5,000,000+', 'Free', '0', 'Everyone', 'Art & Design', 'August 1, 2018', '1.2.4', '4.0.3 and up']\n",
      "\n",
      "\n",
      "['Sketch - Draw & Paint', 'ART_AND_DESIGN', '4.5', '215644', '25M', '50,000,000+', 'Free', '0', 'Teen', 'Art & Design', 'June 8, 2018', 'Varies with device', '4.2 and up']\n",
      "\n",
      "\n",
      "Number of rows: 9659\n",
      "Number of columns: 13\n"
     ]
    }
   ],
   "source": [
    "explore_data(android_clean, 0, 3, True)"
   ]
  },
  {
   "cell_type": "markdown",
   "id": "bc873de1",
   "metadata": {},
   "source": [
    "\n",
    "## Removing Non-English Apps\n"
   ]
  },
  {
   "cell_type": "markdown",
   "id": "62f1d2aa",
   "metadata": {},
   "source": [
    "Our client only develops apps in English but the data includes apps in other languages.  We'll check the unicode character of each letter in app names using `ord()`. ASCII printable characters are codes 32 - 127.  To allow for some flexibility like emojis, we'll allow a maximum of three non-ASCII characters in an app name."
   ]
  },
  {
   "cell_type": "code",
   "execution_count": 14,
   "id": "d34b80d8",
   "metadata": {},
   "outputs": [],
   "source": [
    "# Check if the characters in the app name are ASCII\n",
    "def is_english(a_string):\n",
    "    over_127 = 0\n",
    "    for letter in a_string:\n",
    "        if ord(letter) > 127:\n",
    "            over_127 += 1\n",
    "    if over_127 > 3:\n",
    "        return False\n",
    "    else:\n",
    "        return True        "
   ]
  },
  {
   "cell_type": "code",
   "execution_count": 15,
   "id": "da29ab0d",
   "metadata": {},
   "outputs": [
    {
     "name": "stdout",
     "output_type": "stream",
     "text": [
      "True\n",
      "False\n",
      "True\n",
      "True\n"
     ]
    }
   ],
   "source": [
    "# Make sure it works as intended\n",
    "print(is_english('Instagram'))\n",
    "print(is_english('爱奇艺PPS -《欢乐颂2》电视剧热播'))\n",
    "print(is_english('Docs To Go™ Free Office Suite'))\n",
    "print(is_english('Instachat 😜'))"
   ]
  },
  {
   "cell_type": "code",
   "execution_count": 16,
   "id": "b53d9028",
   "metadata": {},
   "outputs": [],
   "source": [
    "# Remove non-english ios apps\n",
    "ios_eng = []\n",
    "for row in apple_apps[1:]:     # row 0 is the header\n",
    "    app_name = row[1]          # iOS app name is index 1\n",
    "    if is_english(app_name):\n",
    "        ios_eng.append(row)\n",
    "\n",
    "# Remove non-english android apps\n",
    "android_clean_eng = []\n",
    "for row in android_clean:      # there is no header row\n",
    "    app_name = row[0]          # android app name is index 0\n",
    "    if is_english(app_name):\n",
    "        android_clean_eng.append(row)"
   ]
  },
  {
   "cell_type": "code",
   "execution_count": 17,
   "id": "7a791400",
   "metadata": {},
   "outputs": [
    {
     "name": "stdout",
     "output_type": "stream",
     "text": [
      "['284882215', 'Facebook', '389879808', 'USD', '0.0', '2974676', '212', '3.5', '3.5', '95.0', '4+', 'Social Networking', '37', '1', '29', '1']\n",
      "\n",
      "\n",
      "['389801252', 'Instagram', '113954816', 'USD', '0.0', '2161558', '1289', '4.5', '4.0', '10.23', '12+', 'Photo & Video', '37', '0', '29', '1']\n",
      "\n",
      "\n",
      "['529479190', 'Clash of Clans', '116476928', 'USD', '0.0', '2130805', '579', '4.5', '4.5', '9.24.12', '9+', 'Games', '38', '5', '18', '1']\n",
      "\n",
      "\n",
      "Number of rows: 6183\n",
      "Number of columns: 16\n",
      "['Photo Editor & Candy Camera & Grid & ScrapBook', 'ART_AND_DESIGN', '4.1', '159', '19M', '10,000+', 'Free', '0', 'Everyone', 'Art & Design', 'January 7, 2018', '1.0.0', '4.0.3 and up']\n",
      "\n",
      "\n",
      "['U Launcher Lite – FREE Live Cool Themes, Hide Apps', 'ART_AND_DESIGN', '4.7', '87510', '8.7M', '5,000,000+', 'Free', '0', 'Everyone', 'Art & Design', 'August 1, 2018', '1.2.4', '4.0.3 and up']\n",
      "\n",
      "\n",
      "['Sketch - Draw & Paint', 'ART_AND_DESIGN', '4.5', '215644', '25M', '50,000,000+', 'Free', '0', 'Teen', 'Art & Design', 'June 8, 2018', 'Varies with device', '4.2 and up']\n",
      "\n",
      "\n",
      "Number of rows: 9614\n",
      "Number of columns: 13\n"
     ]
    }
   ],
   "source": [
    "explore_data(ios_eng, 0, 3, True)\n",
    "explore_data(android_clean_eng, 0, 3, True)"
   ]
  },
  {
   "cell_type": "markdown",
   "id": "915bfdd2",
   "metadata": {},
   "source": [
    "\n",
    "## Isolate the Free Apps\n"
   ]
  },
  {
   "cell_type": "markdown",
   "id": "905bc58c",
   "metadata": {},
   "source": [
    "Our client only builds free apps and the revenue is generated by ad revenue.  Both datasets (Android and iOS) contain both paid and free apps.  Here we will extract the free apps to analyse."
   ]
  },
  {
   "cell_type": "code",
   "execution_count": 18,
   "id": "07695c58",
   "metadata": {},
   "outputs": [],
   "source": [
    "# In the iOS dataset, free apps have a 'price' column that equals '0.0' (string).\n",
    "free_ios_apps = []\n",
    "for row in ios_eng:\n",
    "    price = row[4]\n",
    "    if price == '0.0':\n",
    "        free_ios_apps.append(row)\n",
    "\n",
    "# In the Android dataset, free apps are catergorized in the 'type' column that equals 'Free' (string).\n",
    "free_android_apps = []\n",
    "for row in android_clean_eng:\n",
    "    app_type = row[6]\n",
    "    if app_type == 'Free':\n",
    "        free_android_apps.append(row)"
   ]
  },
  {
   "cell_type": "code",
   "execution_count": 19,
   "id": "862681e4",
   "metadata": {},
   "outputs": [
    {
     "name": "stdout",
     "output_type": "stream",
     "text": [
      "8863\n",
      "3222\n"
     ]
    }
   ],
   "source": [
    "print(len(free_android_apps))\n",
    "print(len(free_ios_apps))"
   ]
  },
  {
   "cell_type": "markdown",
   "id": "0b8672f3",
   "metadata": {},
   "source": [
    "\n",
    "## Explore the Free App Genres by Frequency\n"
   ]
  },
  {
   "cell_type": "markdown",
   "id": "2cbfe728",
   "metadata": {},
   "source": [
    "Let's consider apps by Genre and create a frequency table.  The iOS genre is labeled `prime_genre` (index 11 or -5) and the Android data has two options: `Genres` (index 9) and `Category` (index  1).  If free market participants are using resources to create more apps of certain generes, maybe it's because they are the more profitable niches."
   ]
  },
  {
   "cell_type": "code",
   "execution_count": 20,
   "id": "5195c65a",
   "metadata": {},
   "outputs": [],
   "source": [
    "# Dataset is a list of lists, index is an integer\n",
    "def freq_table(dataset, index):\n",
    "    # total counts\n",
    "    f_table = {}\n",
    "    for row in dataset:\n",
    "        key = row[index]\n",
    "        if key in f_table:\n",
    "            f_table[key] += 1\n",
    "        else:\n",
    "            f_table[key] = 1\n",
    "    \n",
    "    # as percentages\n",
    "    table_perc = {}\n",
    "    app_count = len(dataset)\n",
    "    for key in f_table:\n",
    "        table_perc[key] = round(((f_table[key] / app_count) * 100), 2)\n",
    "        \n",
    "    return table_perc\n",
    "    "
   ]
  },
  {
   "cell_type": "code",
   "execution_count": 21,
   "id": "52fcca0a",
   "metadata": {},
   "outputs": [],
   "source": [
    "def display_table(dataset, index):\n",
    "    table = freq_table(dataset, index)\n",
    "    table_display = []\n",
    "    for key in table:\n",
    "        key_val_as_tuple = (table[key], key)\n",
    "        table_display.append(key_val_as_tuple)\n",
    "\n",
    "    table_sorted = sorted(table_display, reverse = True)\n",
    "    for entry in table_sorted:\n",
    "        print(entry[1], ':', entry[0])"
   ]
  },
  {
   "cell_type": "markdown",
   "id": "aee906d3",
   "metadata": {},
   "source": [
    "\n",
    "### Frequency Table (`prime_genre`, iOS, %)\n"
   ]
  },
  {
   "cell_type": "code",
   "execution_count": 22,
   "id": "cd2a881d",
   "metadata": {},
   "outputs": [
    {
     "name": "stdout",
     "output_type": "stream",
     "text": [
      "Games : 58.16\n",
      "Entertainment : 7.88\n",
      "Photo & Video : 4.97\n",
      "Education : 3.66\n",
      "Social Networking : 3.29\n",
      "Shopping : 2.61\n",
      "Utilities : 2.51\n",
      "Sports : 2.14\n",
      "Music : 2.05\n",
      "Health & Fitness : 2.02\n",
      "Productivity : 1.74\n",
      "Lifestyle : 1.58\n",
      "News : 1.33\n",
      "Travel : 1.24\n",
      "Finance : 1.12\n",
      "Weather : 0.87\n",
      "Food & Drink : 0.81\n",
      "Reference : 0.56\n",
      "Business : 0.53\n",
      "Book : 0.43\n",
      "Navigation : 0.19\n",
      "Medical : 0.19\n",
      "Catalogs : 0.12\n"
     ]
    }
   ],
   "source": [
    "display_table(free_ios_apps, 11)"
   ]
  },
  {
   "cell_type": "markdown",
   "id": "3d38cc1a",
   "metadata": {},
   "source": [
    "\n",
    "### Frequency Table (`Genres`, Android, %)\n"
   ]
  },
  {
   "cell_type": "code",
   "execution_count": 23,
   "id": "17eee549",
   "metadata": {},
   "outputs": [
    {
     "name": "stdout",
     "output_type": "stream",
     "text": [
      "Tools : 8.45\n",
      "Entertainment : 6.07\n",
      "Education : 5.35\n",
      "Business : 4.59\n",
      "Productivity : 3.89\n",
      "Lifestyle : 3.89\n",
      "Finance : 3.7\n",
      "Medical : 3.53\n",
      "Sports : 3.46\n",
      "Personalization : 3.32\n",
      "Communication : 3.24\n",
      "Action : 3.1\n",
      "Health & Fitness : 3.08\n",
      "Photography : 2.94\n",
      "News & Magazines : 2.8\n",
      "Social : 2.66\n",
      "Travel & Local : 2.32\n",
      "Shopping : 2.25\n",
      "Books & Reference : 2.14\n",
      "Simulation : 2.04\n",
      "Dating : 1.86\n",
      "Arcade : 1.85\n",
      "Video Players & Editors : 1.77\n",
      "Casual : 1.76\n",
      "Maps & Navigation : 1.4\n",
      "Food & Drink : 1.24\n",
      "Puzzle : 1.13\n",
      "Racing : 0.99\n",
      "Role Playing : 0.94\n",
      "Libraries & Demo : 0.94\n",
      "Auto & Vehicles : 0.93\n",
      "Strategy : 0.9\n",
      "House & Home : 0.82\n",
      "Weather : 0.8\n",
      "Events : 0.71\n",
      "Adventure : 0.68\n",
      "Comics : 0.61\n",
      "Beauty : 0.6\n",
      "Art & Design : 0.6\n",
      "Parenting : 0.5\n",
      "Card : 0.45\n",
      "Casino : 0.43\n",
      "Trivia : 0.42\n",
      "Educational;Education : 0.39\n",
      "Board : 0.38\n",
      "Educational : 0.37\n",
      "Education;Education : 0.34\n",
      "Word : 0.26\n",
      "Casual;Pretend Play : 0.24\n",
      "Music : 0.2\n",
      "Racing;Action & Adventure : 0.17\n",
      "Puzzle;Brain Games : 0.17\n",
      "Entertainment;Music & Video : 0.17\n",
      "Casual;Brain Games : 0.14\n",
      "Casual;Action & Adventure : 0.14\n",
      "Arcade;Action & Adventure : 0.12\n",
      "Action;Action & Adventure : 0.1\n",
      "Educational;Pretend Play : 0.09\n",
      "Simulation;Action & Adventure : 0.08\n",
      "Parenting;Education : 0.08\n",
      "Entertainment;Brain Games : 0.08\n",
      "Board;Brain Games : 0.08\n",
      "Parenting;Music & Video : 0.07\n",
      "Educational;Brain Games : 0.07\n",
      "Casual;Creativity : 0.07\n",
      "Art & Design;Creativity : 0.07\n",
      "Education;Pretend Play : 0.06\n",
      "Role Playing;Pretend Play : 0.05\n",
      "Education;Creativity : 0.05\n",
      "Role Playing;Action & Adventure : 0.03\n",
      "Puzzle;Action & Adventure : 0.03\n",
      "Entertainment;Creativity : 0.03\n",
      "Entertainment;Action & Adventure : 0.03\n",
      "Educational;Creativity : 0.03\n",
      "Educational;Action & Adventure : 0.03\n",
      "Education;Music & Video : 0.03\n",
      "Education;Brain Games : 0.03\n",
      "Education;Action & Adventure : 0.03\n",
      "Adventure;Action & Adventure : 0.03\n",
      "Video Players & Editors;Music & Video : 0.02\n",
      "Sports;Action & Adventure : 0.02\n",
      "Simulation;Pretend Play : 0.02\n",
      "Puzzle;Creativity : 0.02\n",
      "Music;Music & Video : 0.02\n",
      "Entertainment;Pretend Play : 0.02\n",
      "Casual;Education : 0.02\n",
      "Board;Action & Adventure : 0.02\n",
      "Video Players & Editors;Creativity : 0.01\n",
      "Trivia;Education : 0.01\n",
      "Travel & Local;Action & Adventure : 0.01\n",
      "Tools;Education : 0.01\n",
      "Strategy;Education : 0.01\n",
      "Strategy;Creativity : 0.01\n",
      "Strategy;Action & Adventure : 0.01\n",
      "Simulation;Education : 0.01\n",
      "Role Playing;Brain Games : 0.01\n",
      "Racing;Pretend Play : 0.01\n",
      "Puzzle;Education : 0.01\n",
      "Parenting;Brain Games : 0.01\n",
      "Music & Audio;Music & Video : 0.01\n",
      "Lifestyle;Pretend Play : 0.01\n",
      "Lifestyle;Education : 0.01\n",
      "Health & Fitness;Education : 0.01\n",
      "Health & Fitness;Action & Adventure : 0.01\n",
      "Entertainment;Education : 0.01\n",
      "Communication;Creativity : 0.01\n",
      "Comics;Creativity : 0.01\n",
      "Casual;Music & Video : 0.01\n",
      "Card;Action & Adventure : 0.01\n",
      "Books & Reference;Education : 0.01\n",
      "Art & Design;Pretend Play : 0.01\n",
      "Art & Design;Action & Adventure : 0.01\n",
      "Arcade;Pretend Play : 0.01\n",
      "Adventure;Education : 0.01\n"
     ]
    }
   ],
   "source": [
    "display_table(free_android_apps, 9)"
   ]
  },
  {
   "cell_type": "markdown",
   "id": "c6f5ba92",
   "metadata": {},
   "source": [
    "\n",
    "### Frequency Table (`category`, Andriod, %)\n"
   ]
  },
  {
   "cell_type": "code",
   "execution_count": 24,
   "id": "9d68141f",
   "metadata": {},
   "outputs": [
    {
     "name": "stdout",
     "output_type": "stream",
     "text": [
      "FAMILY : 18.9\n",
      "GAME : 9.73\n",
      "TOOLS : 8.46\n",
      "BUSINESS : 4.59\n",
      "LIFESTYLE : 3.9\n",
      "PRODUCTIVITY : 3.89\n",
      "FINANCE : 3.7\n",
      "MEDICAL : 3.53\n",
      "SPORTS : 3.4\n",
      "PERSONALIZATION : 3.32\n",
      "COMMUNICATION : 3.24\n",
      "HEALTH_AND_FITNESS : 3.08\n",
      "PHOTOGRAPHY : 2.94\n",
      "NEWS_AND_MAGAZINES : 2.8\n",
      "SOCIAL : 2.66\n",
      "TRAVEL_AND_LOCAL : 2.34\n",
      "SHOPPING : 2.25\n",
      "BOOKS_AND_REFERENCE : 2.14\n",
      "DATING : 1.86\n",
      "VIDEO_PLAYERS : 1.79\n",
      "MAPS_AND_NAVIGATION : 1.4\n",
      "FOOD_AND_DRINK : 1.24\n",
      "EDUCATION : 1.16\n",
      "ENTERTAINMENT : 0.96\n",
      "LIBRARIES_AND_DEMO : 0.94\n",
      "AUTO_AND_VEHICLES : 0.93\n",
      "HOUSE_AND_HOME : 0.82\n",
      "WEATHER : 0.8\n",
      "EVENTS : 0.71\n",
      "PARENTING : 0.65\n",
      "ART_AND_DESIGN : 0.64\n",
      "COMICS : 0.62\n",
      "BEAUTY : 0.6\n"
     ]
    }
   ],
   "source": [
    "display_table(free_android_apps, 1)"
   ]
  },
  {
   "cell_type": "markdown",
   "id": "4999da50",
   "metadata": {},
   "source": [
    "\n",
    "## Explore the Free App Genres by Installs\n",
    "\n"
   ]
  },
  {
   "cell_type": "markdown",
   "id": "0bad055c",
   "metadata": {},
   "source": [
    "Now that we have considered the supply side, let's consider the demand side by analysing the most downloaded apps by genre and category.  The iOS dataset does not have installs as a column value.  Therefore we will use the average user ratings as a proxy."
   ]
  },
  {
   "cell_type": "code",
   "execution_count": 25,
   "id": "189636b5",
   "metadata": {},
   "outputs": [],
   "source": [
    "ios_genre_freq_table = freq_table(free_ios_apps, 11)"
   ]
  },
  {
   "cell_type": "code",
   "execution_count": 26,
   "id": "c2dab174",
   "metadata": {},
   "outputs": [
    {
     "data": {
      "text/plain": [
       "[(86090, 'Navigation'),\n",
       " (74942, 'Reference'),\n",
       " (71548, 'Social Networking'),\n",
       " (57327, 'Music'),\n",
       " (52280, 'Weather'),\n",
       " (39758, 'Book'),\n",
       " (33334, 'Food & Drink'),\n",
       " (31468, 'Finance'),\n",
       " (28442, 'Photo & Video'),\n",
       " (28244, 'Travel'),\n",
       " (26920, 'Shopping'),\n",
       " (23298, 'Health & Fitness'),\n",
       " (23009, 'Sports'),\n",
       " (22789, 'Games'),\n",
       " (21248, 'News'),\n",
       " (21028, 'Productivity'),\n",
       " (18684, 'Utilities'),\n",
       " (16486, 'Lifestyle'),\n",
       " (14030, 'Entertainment'),\n",
       " (7491, 'Business'),\n",
       " (7004, 'Education'),\n",
       " (4004, 'Catalogs'),\n",
       " (612, 'Medical')]"
      ]
     },
     "execution_count": 26,
     "metadata": {},
     "output_type": "execute_result"
    }
   ],
   "source": [
    "ios_genre_avg_ratings = []\n",
    "\n",
    "for genre in ios_genre_freq_table:\n",
    "    total = 0\n",
    "    len_genre = 0\n",
    "    \n",
    "    for row in free_ios_apps:\n",
    "        # prime_genre index is 9 or -5\n",
    "        app_genre = row[-5]\n",
    "        \n",
    "        if genre == app_genre:\n",
    "            # rating_count_total is index 5\n",
    "            total += int(row[5])\n",
    "            len_genre += 1\n",
    "    # list of tuples with sort index as first element        \n",
    "    ios_genre_avg_ratings.append((round(total / len_genre), genre))\n",
    "            \n",
    "sorted(ios_genre_avg_ratings, reverse=True)"
   ]
  },
  {
   "cell_type": "markdown",
   "id": "b6447507",
   "metadata": {},
   "source": [
    "Let's check the installs on Android."
   ]
  },
  {
   "cell_type": "code",
   "execution_count": 27,
   "id": "4303b0cd",
   "metadata": {},
   "outputs": [
    {
     "name": "stdout",
     "output_type": "stream",
     "text": [
      "1,000,000+ : 15.73\n",
      "100,000+ : 11.55\n",
      "10,000,000+ : 10.55\n",
      "10,000+ : 10.2\n",
      "1,000+ : 8.39\n",
      "100+ : 6.92\n",
      "5,000,000+ : 6.83\n",
      "500,000+ : 5.56\n",
      "50,000+ : 4.77\n",
      "5,000+ : 4.51\n",
      "10+ : 3.54\n",
      "500+ : 3.25\n",
      "50,000,000+ : 2.3\n",
      "100,000,000+ : 2.13\n",
      "50+ : 1.92\n",
      "5+ : 0.79\n",
      "1+ : 0.51\n",
      "500,000,000+ : 0.27\n",
      "1,000,000,000+ : 0.23\n",
      "0+ : 0.05\n"
     ]
    }
   ],
   "source": [
    "display_table(free_android_apps, 5)"
   ]
  },
  {
   "cell_type": "code",
   "execution_count": 28,
   "id": "987d3a03",
   "metadata": {},
   "outputs": [],
   "source": [
    "android_cat = freq_table(free_android_apps, 1)"
   ]
  },
  {
   "cell_type": "code",
   "execution_count": 29,
   "id": "d70280b3",
   "metadata": {},
   "outputs": [],
   "source": [
    "android_genres = []\n",
    "for category in android_cat:\n",
    "    total = 0\n",
    "    len_category = 0\n",
    "    \n",
    "    for row in free_android_apps:\n",
    "        category_app = row[1]\n",
    "        if category_app == category:\n",
    "            # The installs string has '+' and ',' chars that need to be removed before using int()\n",
    "            total += int(row[5].replace(\"+\", \"\").replace(\",\", \"\"))\n",
    "            len_category += 1\n",
    "            \n",
    "    android_genres.append((round((total / len_category)), category))\n",
    "    "
   ]
  },
  {
   "cell_type": "code",
   "execution_count": 30,
   "id": "12efad7a",
   "metadata": {},
   "outputs": [
    {
     "data": {
      "text/plain": [
       "[(38456119, 'COMMUNICATION'),\n",
       " (24727872, 'VIDEO_PLAYERS'),\n",
       " (23253652, 'SOCIAL'),\n",
       " (17840110, 'PHOTOGRAPHY'),\n",
       " (16787331, 'PRODUCTIVITY'),\n",
       " (15588016, 'GAME'),\n",
       " (13984078, 'TRAVEL_AND_LOCAL'),\n",
       " (11640706, 'ENTERTAINMENT'),\n",
       " (10801391, 'TOOLS'),\n",
       " (9549178, 'NEWS_AND_MAGAZINES'),\n",
       " (8767812, 'BOOKS_AND_REFERENCE'),\n",
       " (7036877, 'SHOPPING'),\n",
       " (5201483, 'PERSONALIZATION'),\n",
       " (5074486, 'WEATHER'),\n",
       " (4188822, 'HEALTH_AND_FITNESS'),\n",
       " (4056942, 'MAPS_AND_NAVIGATION'),\n",
       " (3697848, 'FAMILY'),\n",
       " (3638640, 'SPORTS'),\n",
       " (1986335, 'ART_AND_DESIGN'),\n",
       " (1924898, 'FOOD_AND_DRINK'),\n",
       " (1833495, 'EDUCATION'),\n",
       " (1712290, 'BUSINESS'),\n",
       " (1437816, 'LIFESTYLE'),\n",
       " (1387692, 'FINANCE'),\n",
       " (1331541, 'HOUSE_AND_HOME'),\n",
       " (854029, 'DATING'),\n",
       " (817657, 'COMICS'),\n",
       " (647318, 'AUTO_AND_VEHICLES'),\n",
       " (638504, 'LIBRARIES_AND_DEMO'),\n",
       " (542604, 'PARENTING'),\n",
       " (513152, 'BEAUTY'),\n",
       " (253542, 'EVENTS'),\n",
       " (120551, 'MEDICAL')]"
      ]
     },
     "execution_count": 30,
     "metadata": {},
     "output_type": "execute_result"
    }
   ],
   "source": [
    "sorted(android_genres, reverse=True)"
   ]
  },
  {
   "cell_type": "markdown",
   "id": "7950885d",
   "metadata": {},
   "source": [
    "\n",
    "## Conclusion\n"
   ]
  },
  {
   "cell_type": "markdown",
   "id": "e6b8935b",
   "metadata": {},
   "source": [
    "By far, the most common app genre available on iOS App Store is 'Games' (58%).  The next closest genre was 'Entertainment' at 8%.  However, based on installs, the top threee app genres are: 'Navigation', 'Reference', 'Social Networking'.  \n",
    "\n",
    "Navigation is dominated by utilities like Google Maps and Waze.  This probably wouldn't be a good niche to compete in.\n",
    "\n",
    "After further review, we recommend exploration with the development team on the following niches to see if a competitve advantage could be reasonably achieved: \n",
    "\n",
    "* Games\n",
    "* Weather \n",
    "* Photo and Video\n",
    "* Tools  "
   ]
  }
 ],
 "metadata": {
  "kernelspec": {
   "display_name": "Python 3 (ipykernel)",
   "language": "python",
   "name": "python3"
  },
  "language_info": {
   "codemirror_mode": {
    "name": "ipython",
    "version": 3
   },
   "file_extension": ".py",
   "mimetype": "text/x-python",
   "name": "python",
   "nbconvert_exporter": "python",
   "pygments_lexer": "ipython3",
   "version": "3.9.13"
  }
 },
 "nbformat": 4,
 "nbformat_minor": 5
}
